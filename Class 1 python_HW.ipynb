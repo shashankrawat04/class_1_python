{
 "cells": [
  {
   "cell_type": "markdown",
   "id": "ee28785d-8385-41eb-aede-4bdf85407bac",
   "metadata": {},
   "source": [
    "Question 1:  Declare two variables, `x` and `y`, and assign them integer values. Swap the values of these variables without using any temporary variable."
   ]
  },
  {
   "cell_type": "code",
   "execution_count": 1,
   "id": "21a7b4d6-fe8d-42b7-bf18-763ca053acf0",
   "metadata": {},
   "outputs": [],
   "source": [
    "a = 10\n",
    "b = 20"
   ]
  },
  {
   "cell_type": "code",
   "execution_count": 2,
   "id": "07687d54-8519-4041-b925-deeb91c38058",
   "metadata": {},
   "outputs": [],
   "source": [
    "a = 20\n",
    "b = 10"
   ]
  },
  {
   "cell_type": "code",
   "execution_count": 3,
   "id": "7e82bd78-efd3-4ebc-b01c-19e50ae80222",
   "metadata": {},
   "outputs": [
    {
     "name": "stdout",
     "output_type": "stream",
     "text": [
      "20\n",
      "10\n"
     ]
    }
   ],
   "source": [
    "print(a)\n",
    "print(b)"
   ]
  },
  {
   "cell_type": "markdown",
   "id": "f1f16450-50ba-4011-a332-d15d30ee938f",
   "metadata": {},
   "source": [
    "Question 2: Create a program that calculates the area of a rectangle. Take the length and width as inputs from the user and store them in variables. Calculate and display the area."
   ]
  },
  {
   "cell_type": "code",
   "execution_count": 7,
   "id": "ae5309ee-2ace-4f19-9adc-f6ef28d1047a",
   "metadata": {},
   "outputs": [
    {
     "name": "stdin",
     "output_type": "stream",
     "text": [
      " 10\n",
      " 20\n"
     ]
    },
    {
     "name": "stdout",
     "output_type": "stream",
     "text": [
      "Area of the triangle100.0\n"
     ]
    }
   ],
   "source": [
    "Height = int(input())\n",
    "Base = int(input())\n",
    "Area = 0.5 * Height * Base\n",
    "print(\"Area of the triangle\" + str(Area))"
   ]
  },
  {
   "cell_type": "markdown",
   "id": "6c5b722d-888b-4fa7-98be-53b5c02c2454",
   "metadata": {},
   "source": [
    "Question 3: Write a Python program that converts temperatures from Celsius to Fahrenheit. Take the temperature in Celsius as input, store it in a variable, convert it to Fahrenheit, and display the result."
   ]
  },
  {
   "cell_type": "code",
   "execution_count": 8,
   "id": "045d028b-460f-4d6c-aa24-f1f9938e0bb5",
   "metadata": {},
   "outputs": [
    {
     "name": "stdout",
     "output_type": "stream",
     "text": [
      "Enter the temperature in Celsius to convert in Fahrenheit\n"
     ]
    },
    {
     "name": "stdin",
     "output_type": "stream",
     "text": [
      " 10\n"
     ]
    },
    {
     "name": "stdout",
     "output_type": "stream",
     "text": [
      "50.0\n"
     ]
    }
   ],
   "source": [
    "print(\"Enter the temperature in Celsius to convert in Fahrenheit\")\n",
    "Celsius = int(input())\n",
    "Fahrenheit = 1.8 * Celsius + 32\n",
    "print(Fahrenheit)\n"
   ]
  },
  {
   "cell_type": "markdown",
   "id": "5c079449-bfa6-4728-b875-212cfd271347",
   "metadata": {},
   "source": [
    " Question 4: Write a Python program that takes a string as input and prints the length of the string."
   ]
  },
  {
   "cell_type": "code",
   "execution_count": 11,
   "id": "064b9ef9-c8fa-4d59-95c9-8836e4602fd8",
   "metadata": {},
   "outputs": [
    {
     "name": "stdin",
     "output_type": "stream",
     "text": [
      " Shashank\n"
     ]
    },
    {
     "name": "stdout",
     "output_type": "stream",
     "text": [
      "8\n"
     ]
    }
   ],
   "source": [
    "a = input()\n",
    "print(len(a))"
   ]
  },
  {
   "cell_type": "markdown",
   "id": "07286e89-020d-4132-9bc1-946f738bab2a",
   "metadata": {},
   "source": [
    "Question 5: Create a program that takes a sentence from the user and counts the number of vowels (a, e, i, o, u) in the string."
   ]
  },
  {
   "cell_type": "code",
   "execution_count": 22,
   "id": "dd01ce83-6b61-4f82-ac03-2c4ccede4bdc",
   "metadata": {},
   "outputs": [
    {
     "name": "stdin",
     "output_type": "stream",
     "text": [
      " pwskills\n"
     ]
    },
    {
     "name": "stdout",
     "output_type": "stream",
     "text": [
      "1\n"
     ]
    }
   ],
   "source": [
    "s = input()\n",
    "count = 0\n",
    "for word in s:\n",
    "    if(word == 'a' or word == 'e' or word == 'i' or word == 'o' or word == 'u'):\n",
    "        count = count+1\n",
    "    \n",
    "print(count)"
   ]
  },
  {
   "cell_type": "markdown",
   "id": "997d4f18-ca6e-4695-abfe-67f3b9605a24",
   "metadata": {},
   "source": [
    "Question 6: Given a string, reverse the order of characters using string slicing and print the reversed string.\n"
   ]
  },
  {
   "cell_type": "code",
   "execution_count": 23,
   "id": "11e61795-81b7-41cd-ab31-7c2eb8f51b76",
   "metadata": {},
   "outputs": [
    {
     "data": {
      "text/plain": [
       "'slliksWP'"
      ]
     },
     "execution_count": 23,
     "metadata": {},
     "output_type": "execute_result"
    }
   ],
   "source": [
    "s1 = \"PWskills\"\n",
    "s1[::-1]"
   ]
  },
  {
   "cell_type": "markdown",
   "id": "d6ccc894-8379-436d-ab47-0e6913959a8c",
   "metadata": {},
   "source": [
    "Question 6: Write a program that takes a string as input and checks if it is a palindrome (reads the same forwards and backwards)."
   ]
  },
  {
   "cell_type": "code",
   "execution_count": 24,
   "id": "87d421a5-417c-4353-9ac0-3d3edda1dbe9",
   "metadata": {},
   "outputs": [
    {
     "name": "stdin",
     "output_type": "stream",
     "text": [
      " naman\n"
     ]
    },
    {
     "data": {
      "text/plain": [
       "True"
      ]
     },
     "execution_count": 24,
     "metadata": {},
     "output_type": "execute_result"
    }
   ],
   "source": [
    "s2 = input()\n",
    "s2[::-1] == s2[0:]"
   ]
  },
  {
   "cell_type": "markdown",
   "id": "56868c27-4adb-464e-a4e8-aedfb9872d4b",
   "metadata": {},
   "source": [
    "Question 7: Create a program that takes a string as input and removes all the spaces from it. Print the modified string without spaces."
   ]
  },
  {
   "cell_type": "code",
   "execution_count": 31,
   "id": "fabe5ee4-58a1-49ae-9202-dff0bf692e97",
   "metadata": {},
   "outputs": [
    {
     "name": "stdin",
     "output_type": "stream",
     "text": [
      " My name is shashank rawat\n"
     ]
    },
    {
     "name": "stdout",
     "output_type": "stream",
     "text": [
      "Mynameisshashankrawat"
     ]
    }
   ],
   "source": [
    "s4 = input()\n",
    "for spaces in s4:\n",
    "    if(spaces == ' '):\n",
    "        pass \n",
    "    else:\n",
    "        print(spaces, end = '')\n",
    "        \n",
    "        "
   ]
  },
  {
   "cell_type": "code",
   "execution_count": null,
   "id": "fba4a7a4-0fa6-4c0f-860c-40aa5e600b89",
   "metadata": {},
   "outputs": [],
   "source": []
  }
 ],
 "metadata": {
  "kernelspec": {
   "display_name": "Python 3 (ipykernel)",
   "language": "python",
   "name": "python3"
  },
  "language_info": {
   "codemirror_mode": {
    "name": "ipython",
    "version": 3
   },
   "file_extension": ".py",
   "mimetype": "text/x-python",
   "name": "python",
   "nbconvert_exporter": "python",
   "pygments_lexer": "ipython3",
   "version": "3.10.8"
  }
 },
 "nbformat": 4,
 "nbformat_minor": 5
}
